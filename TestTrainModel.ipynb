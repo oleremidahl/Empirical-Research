{
 "cells": [
  {
   "cell_type": "code",
   "execution_count": 1,
   "metadata": {},
   "outputs": [],
   "source": [
    "import pandas as pd\n",
    "from sklearn.ensemble import RandomForestClassifier\n",
    "from sklearn.metrics import accuracy_score, classification_report\n",
    "\n",
    "# Load scaled features and labels\n",
    "X_train = pd.read_csv('Features/TrainingSet/features_scaled.csv')\n",
    "y_train = pd.read_csv('Features/TrainingSet/matches_engineered.csv')['FTR']  # Home (H), Draw (D), Away (A)\n",
    "X_val = pd.read_csv('Features/ValidationSet/features_scaled.csv')\n",
    "y_val = pd.read_csv('Features/ValidationSet/matches_engineered.csv')['FTR']"
   ]
  },
  {
   "cell_type": "code",
   "execution_count": 2,
   "metadata": {},
   "outputs": [
    {
     "name": "stdout",
     "output_type": "stream",
     "text": [
      "Validation Accuracy: 0.482\n",
      "              precision    recall  f1-score   support\n",
      "\n",
      "        Away       0.47      0.28      0.35       111\n",
      "        Draw       0.29      0.04      0.07        96\n",
      "        Home       0.49      0.86      0.63       173\n",
      "\n",
      "    accuracy                           0.48       380\n",
      "   macro avg       0.42      0.39      0.35       380\n",
      "weighted avg       0.43      0.48      0.41       380\n",
      "\n"
     ]
    }
   ],
   "source": [
    "# Initialize with sensible defaults\n",
    "rf = RandomForestClassifier(\n",
    "    n_estimators=200,\n",
    "    max_depth=10,\n",
    "    min_samples_split=5,\n",
    "    random_state=42,\n",
    "    n_jobs=-1  # Use all CPU cores\n",
    ")\n",
    "\n",
    "# Train\n",
    "rf.fit(X_train, y_train)\n",
    "\n",
    "# Validate\n",
    "val_pred = rf.predict(X_val)\n",
    "print(f\"Validation Accuracy: {accuracy_score(y_val, val_pred):.3f}\")\n",
    "print(classification_report(y_val, val_pred, target_names=['Away', 'Draw', 'Home']))"
   ]
  },
  {
   "cell_type": "code",
   "execution_count": 3,
   "metadata": {},
   "outputs": [
    {
     "name": "stdout",
     "output_type": "stream",
     "text": [
      "Best Params: {'max_depth': 10, 'min_samples_split': 5, 'n_estimators': 200}\n"
     ]
    }
   ],
   "source": [
    "from sklearn.model_selection import GridSearchCV\n",
    "\n",
    "param_grid = {\n",
    "    'n_estimators': [100, 200, 300],\n",
    "    'max_depth': [5, 10, None],\n",
    "    'min_samples_split': [2, 5, 10]\n",
    "}\n",
    "\n",
    "grid_search = GridSearchCV(\n",
    "    RandomForestClassifier(random_state=42),\n",
    "    param_grid,\n",
    "    cv=5,\n",
    "    scoring='accuracy',\n",
    "    n_jobs=-1\n",
    ")\n",
    "grid_search.fit(X_train, y_train)\n",
    "\n",
    "best_rf = grid_search.best_estimator_\n",
    "print(f\"Best Params: {grid_search.best_params_}\")"
   ]
  },
  {
   "cell_type": "code",
   "execution_count": 4,
   "metadata": {},
   "outputs": [
    {
     "name": "stdout",
     "output_type": "stream",
     "text": [
      "\n",
      "Test Set Performance:\n",
      "Accuracy: 0.437\n",
      "              precision    recall  f1-score   support\n",
      "\n",
      "           A       0.44      0.25      0.32       106\n",
      "           D       0.31      0.05      0.08       110\n",
      "           H       0.44      0.82      0.58       164\n",
      "\n",
      "    accuracy                           0.44       380\n",
      "   macro avg       0.40      0.37      0.32       380\n",
      "weighted avg       0.40      0.44      0.36       380\n",
      "\n"
     ]
    }
   ],
   "source": [
    "# Test set evaluation\n",
    "X_test = pd.read_csv('Features/TestSet/features_scaled.csv')\n",
    "y_test = pd.read_csv('Features/TestSet/matches_engineered.csv')['FTR']\n",
    "\n",
    "test_pred = best_rf.predict(X_test)\n",
    "print(\"\\nTest Set Performance:\")\n",
    "print(f\"Accuracy: {accuracy_score(y_test, test_pred):.3f}\")\n",
    "print(classification_report(y_test, test_pred))"
   ]
  },
  {
   "cell_type": "code",
   "execution_count": null,
   "metadata": {},
   "outputs": [],
   "source": [
    "import matplotlib.pyplot as plt\n",
    "\n",
    "# Get importances\n",
    "importances = pd.DataFrame({\n",
    "    'Feature': X_train.columns,\n",
    "    'Importance': best_rf.feature_importances_\n",
    "}).sort_values('Importance', ascending=False)\n",
    "\n",
    "# Plot\n",
    "plt.figure(figsize=(10, 6))\n",
    "plt.barh(importances['Feature'], importances['Importance'])\n",
    "plt.title('Random Forest Feature Importance')\n",
    "plt.tight_layout()\n",
    "plt.savefig('feature_importance.png', dpi=300)\n",
    "plt.show()"
   ]
  }
 ],
 "metadata": {
  "kernelspec": {
   "display_name": "Python 3",
   "language": "python",
   "name": "python3"
  },
  "language_info": {
   "codemirror_mode": {
    "name": "ipython",
    "version": 3
   },
   "file_extension": ".py",
   "mimetype": "text/x-python",
   "name": "python",
   "nbconvert_exporter": "python",
   "pygments_lexer": "ipython3",
   "version": "3.10.5"
  }
 },
 "nbformat": 4,
 "nbformat_minor": 2
}
