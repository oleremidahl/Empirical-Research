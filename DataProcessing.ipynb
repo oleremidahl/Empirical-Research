{
 "cells": [
  {
   "cell_type": "code",
   "execution_count": 1,
   "metadata": {},
   "outputs": [],
   "source": [
    "import pandas as pd\n",
    "import requests\n",
    "from datetime import datetime"
   ]
  },
  {
   "cell_type": "code",
   "execution_count": 20,
   "metadata": {},
   "outputs": [],
   "source": [
    "team_coordinates = {\n",
    "    \"Ajaccio\": {\"latitude\": 41.931081, \"longitude\": 8.776725},\n",
    "    \"Ajaccio GFCO\": {\"latitude\": 41.92434, \"longitude\": 8.77273},\n",
    "    \"Bastia\": {\"latitude\": 42.6514, \"longitude\": 9.442619},\n",
    "    \"Bordeaux\": {\"latitude\": 44.829167, \"longitude\": -0.597778},\n",
    "    \"Evian Thonon Gaillard\": {\"latitude\": 45.916497, \"longitude\": 6.118054},\n",
    "    \"Guingamp\": {\"latitude\": 48.566285, \"longitude\": -3.164599},\n",
    "    \"Lens\": {\"latitude\": 50.4264, \"longitude\": 2.8089},\n",
    "    \"Lille\": {\"latitude\": 50.611883, \"longitude\": 3.130428},\n",
    "    \"Lorient\": {\"latitude\": 47.748747, \"longitude\": -3.369367},\n",
    "    \"Lyon\": {\"latitude\": 45.723889, \"longitude\": 4.832222},\n",
    "    \"Marseille\": {\"latitude\": 43.269722, \"longitude\": 5.395833},\n",
    "    \"Monaco\": {\"latitude\": 43.727606, \"longitude\": 7.415614},\n",
    "    \"Montpellier\": {\"latitude\": 43.622222, \"longitude\": 3.811944},\n",
    "    \"Nantes\": {\"latitude\": 47.255631, \"longitude\": -1.525375},\n",
    "    \"Nice\": {\"latitude\": 43.723328, \"longitude\": 7.258756},\n",
    "    \"Paris SG\": {\"latitude\": 48.841389, \"longitude\": 2.253056},\n",
    "    \"Reims\": {\"latitude\": 49.246667, \"longitude\": 4.025},\n",
    "    \"Rennes\": {\"latitude\": 48.107458, \"longitude\": -1.712839},\n",
    "    \"St Etienne\": {\"latitude\": 45.460833, \"longitude\": 4.390278},\n",
    "    \"Sochaux\": {\"latitude\": 47.512417, \"longitude\": 6.8112},\n",
    "    \"Toulouse\": {\"latitude\": 43.583056, \"longitude\": 1.434167},\n",
    "    \"Valenciennes\": {\"latitude\": 50.348131, \"longitude\": 3.533027},\n",
    "    \"Nancy\": {\"latitude\": 48.6955, \"longitude\": 6.210687},\n",
    "    \"Dijon\": {\"latitude\": 47.324383, \"longitude\": 5.068342},\n",
    "    \"Troyes\": {\"latitude\": 48.307561, \"longitude\": 4.098458},\n",
    "    \"Auxerre\": {\"latitude\": 47.786753, \"longitude\": 3.588664},\n",
    "    \"Brest\": {\"latitude\": 48.402932, \"longitude\": -4.461694},\n",
    "    \"Caen\": {\"latitude\": 49.179461, \"longitude\": -0.396767},\n",
    "    \"Angers\": {\"latitude\": 47.460428, \"longitude\": 0.530803},      \n",
    "    \"Metz\": {\"latitude\": 49.109814, \"longitude\": 6.159511},        \n",
    "    \"Amiens\": {\"latitude\": 49.894208, \"longitude\": 2.263311},      \n",
    "    \"Strasbourg\": {\"latitude\": 48.556036, \"longitude\": 7.752978},\n",
    "    \"Nimes\": {\"latitude\": 43.810833, \"longitude\": 4.356389},       \n",
    "}"
   ]
  },
  {
   "cell_type": "code",
   "execution_count": 11,
   "metadata": {},
   "outputs": [],
   "source": [
    "def parse_date(csv_date):\n",
    "    \"\"\"\n",
    "    Convert date from dd-mm-yy format to YYYY-MM-DD format.\n",
    "    \"\"\"\n",
    "    # Parse the date from the CSV format (dd-mm-yy)\n",
    "    date_obj = datetime.strptime(csv_date, \"%d/%m/%y\")\n",
    "    # Format it as YYYY-MM-DD for the API\n",
    "    return date_obj.strftime(\"%Y-%m-%d\")\n",
    "\n",
    "def fetch_weather_data(latitude, longitude, date):\n",
    "    \"\"\"\n",
    "    Fetch weather data from the Open-Meteo API for a given date and location.\n",
    "    \"\"\"\n",
    "    url = f\"https://archive-api.open-meteo.com/v1/archive?latitude={latitude}&longitude={longitude}&start_date={date}&end_date={date}&hourly=temperature_2m,wind_speed_10m,precipitation&timezone=Europe/Berlin\"\n",
    "    response = requests.get(url)\n",
    "    if response.status_code == 200:\n",
    "        return response.json()\n",
    "    else:\n",
    "        print(f\"Failed to fetch weather data for {date}\")\n",
    "        return None\n",
    "\n",
    "def extract_weather_metrics(weather_data):\n",
    "    \"\"\"\n",
    "    Extract average temperature, wind speed, and total precipitation from weather data.\n",
    "    \"\"\"\n",
    "    hourly = weather_data[\"hourly\"]\n",
    "    temperature = sum(hourly[\"temperature_2m\"]) / len(hourly[\"temperature_2m\"])\n",
    "    wind_speed = sum(hourly[\"wind_speed_10m\"]) / len(hourly[\"wind_speed_10m\"])\n",
    "    precipitation = sum(hourly[\"precipitation\"])\n",
    "    return temperature, wind_speed, precipitation"
   ]
  },
  {
   "cell_type": "code",
   "execution_count": 32,
   "metadata": {},
   "outputs": [],
   "source": [
    "# Load the CSV file into a DataFrame\n",
    "match_data = pd.read_csv(\"Datasets/Unprocessed/season-1819.csv\")\n",
    "\n",
    "# Add new columns for weather data\n",
    "match_data[\"temperature\"] = None\n",
    "match_data[\"wind_speed\"] = None\n",
    "match_data[\"precipitation\"] = None"
   ]
  },
  {
   "cell_type": "code",
   "execution_count": 33,
   "metadata": {},
   "outputs": [],
   "source": [
    "# Loop through each row in the DataFrame\n",
    "for index, row in match_data.iterrows():\n",
    "    home_team = row[\"HomeTeam\"]\n",
    "    match_date = row[\"Date\"]  # Date in dd-mm-yy format\n",
    "    latitude = team_coordinates[home_team][\"latitude\"]\n",
    "    longitude = team_coordinates[home_team][\"longitude\"]\n",
    "\n",
    "    # Parse the date into YYYY-MM-DD format\n",
    "    formatted_date = parse_date(match_date)\n",
    "\n",
    "    # Fetch weather data\n",
    "    weather_data = fetch_weather_data(latitude, longitude, formatted_date)\n",
    "    if weather_data:\n",
    "        temperature, wind_speed, precipitation = extract_weather_metrics(weather_data)\n",
    "        # Update the DataFrame with weather data\n",
    "        match_data.at[index, \"temperature\"] = temperature\n",
    "        match_data.at[index, \"wind_speed\"] = wind_speed\n",
    "        match_data.at[index, \"precipitation\"] = precipitation\n",
    "\n",
    "# Save the updated DataFrame to a new CSV file\n",
    "match_data.to_csv(\"Datasets/Processed/season-1819_with_weather.csv\", index=False)"
   ]
  },
  {
   "cell_type": "code",
   "execution_count": 31,
   "metadata": {},
   "outputs": [],
   "source": [
    "file_path = \"Datasets/Processed/season-1819_with_weather.csv\"\n",
    "df = pd.read_csv(file_path)\n",
    "\n",
    "# Find the column positions\n",
    "# start_col = df.columns.get_loc(\"B365H\")\n",
    "# end_col = df.columns.get_loc(\"PSCA\")\n",
    "\n",
    "# Drop the columns in the range\n",
    "df.drop(df.columns[22:63 + 1], axis=1, inplace=True)\n",
    "\n",
    "# Save the modified file\n",
    "df.to_csv(\"Datasets/Processed/season-1819_with_weather.csv\", index=False)"
   ]
  }
 ],
 "metadata": {
  "kernelspec": {
   "display_name": "Python 3",
   "language": "python",
   "name": "python3"
  },
  "language_info": {
   "codemirror_mode": {
    "name": "ipython",
    "version": 3
   },
   "file_extension": ".py",
   "mimetype": "text/x-python",
   "name": "python",
   "nbconvert_exporter": "python",
   "pygments_lexer": "ipython3",
   "version": "3.10.5"
  }
 },
 "nbformat": 4,
 "nbformat_minor": 2
}
