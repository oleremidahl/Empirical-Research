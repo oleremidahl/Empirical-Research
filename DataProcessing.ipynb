{
 "cells": [
  {
   "cell_type": "code",
   "execution_count": 1,
   "metadata": {},
   "outputs": [],
   "source": [
    "import pandas as pd\n",
    "import requests\n",
    "from datetime import datetime"
   ]
  },
  {
   "cell_type": "code",
   "execution_count": 2,
   "metadata": {},
   "outputs": [],
   "source": [
    "team_coordinates = {\n",
    "    \"Ajaccio\": {\"latitude\": 41.931081, \"longitude\": 8.776725},\n",
    "    \"Bastia\": {\"latitude\": 42.6514, \"longitude\": 9.442619},\n",
    "    \"Bordeaux\": {\"latitude\": 44.829167, \"longitude\": -0.597778},\n",
    "    \"Evian Thonon Gaillard\": {\"latitude\": 45.916497, \"longitude\": 6.118054},\n",
    "    \"Guingamp\": {\"latitude\": 48.566285, \"longitude\": -3.164599},\n",
    "    \"Lille\": {\"latitude\": 50.611883, \"longitude\": 3.130428},\n",
    "    \"Lorient\": {\"latitude\": 47.748747, \"longitude\": -3.369367},\n",
    "    \"Lyon\": {\"latitude\": 45.723889, \"longitude\": 4.832222},\n",
    "    \"Marseille\": {\"latitude\": 43.269722, \"longitude\": 5.395833},\n",
    "    \"Monaco\": {\"latitude\": 43.727606, \"longitude\": 7.415614},\n",
    "    \"Montpellier\": {\"latitude\": 43.622222, \"longitude\": 3.811944},\n",
    "    \"Nantes\": {\"latitude\": 47.255631, \"longitude\": -1.525375},\n",
    "    \"Nice\": {\"latitude\": 43.723328, \"longitude\": 7.258756},\n",
    "    \"Paris SG\": {\"latitude\": 48.841389, \"longitude\": 2.253056},\n",
    "    \"Reims\": {\"latitude\": 49.246667, \"longitude\": 4.025},\n",
    "    \"Rennes\": {\"latitude\": 48.107458, \"longitude\": -1.712839},\n",
    "    \"St Etienne\": {\"latitude\": 45.460833, \"longitude\": 4.390278},\n",
    "    \"Sochaux\": {\"latitude\": 47.512417, \"longitude\": 6.8112},\n",
    "    \"Toulouse\": {\"latitude\": 43.583056, \"longitude\": 1.434167},\n",
    "    \"Valenciennes\": {\"latitude\": 50.348131, \"longitude\": 3.533027},\n",
    "    \"Nancy\": {\"latitude\": 48.6955, \"longitude\": 6.210687},\n",
    "    \"Dijon\": {\"latitude\": 47.324383, \"longitude\": 5.068342},\n",
    "    \"Troyes\": {\"latitude\": 48.307561, \"longitude\": 4.098458},\n",
    "    \"Auxerre\": {\"latitude\": 47.786753, \"longitude\": 3.588664},\n",
    "    \"Brest\": {\"latitude\": 48.402932, \"longitude\": -4.461694},\n",
    "    \"Caen\": {\"latitude\": 49.179461, \"longitude\": -0.396767},\n",
    "    \"Angers\": {\"latitude\": 47.460428, \"longitude\": 0.530803},      \n",
    "    \"Metz\": {\"latitude\": 49.109814, \"longitude\": 6.159511},        \n",
    "    \"Amiens\": {\"latitude\": 49.894208, \"longitude\": 2.263311},      \n",
    "    \"Strasbourg\": {\"latitude\": 48.556036, \"longitude\": 7.752978},\n",
    "    \"Nimes\": {\"latitude\": 43.810833, \"longitude\": 4.356389},       \n",
    "}"
   ]
  },
  {
   "cell_type": "code",
   "execution_count": 3,
   "metadata": {},
   "outputs": [],
   "source": [
    "def parse_date(csv_date):\n",
    "    \"\"\"\n",
    "    Convert date from dd-mm-yy format to YYYY-MM-DD format.\n",
    "    \"\"\"\n",
    "    # Parse the date from the CSV format (dd-mm-yy)\n",
    "    date_obj = datetime.strptime(csv_date, \"%d/%m/%y\")\n",
    "    # Format it as YYYY-MM-DD for the API\n",
    "    return date_obj.strftime(\"%Y-%m-%d\")\n",
    "\n",
    "def fetch_weather_data(latitude, longitude, date):\n",
    "    \"\"\"\n",
    "    Fetch weather data from the Open-Meteo API for a given date and location.\n",
    "    \"\"\"\n",
    "    url = f\"https://archive-api.open-meteo.com/v1/archive?latitude={latitude}&longitude={longitude}&start_date={date}&end_date={date}&hourly=temperature_2m,wind_speed_10m,precipitation&timezone=Europe/Berlin\"\n",
    "    response = requests.get(url)\n",
    "    if response.status_code == 200:\n",
    "        return response.json()\n",
    "    else:\n",
    "        print(f\"Failed to fetch weather data for {date}\")\n",
    "        return None\n",
    "\n",
    "def extract_weather_metrics(weather_data):\n",
    "    \"\"\"\n",
    "    Extract average temperature, wind speed, and total precipitation from weather data.\n",
    "    \"\"\"\n",
    "    hourly = weather_data[\"hourly\"]\n",
    "    temperature = sum(hourly[\"temperature_2m\"]) / len(hourly[\"temperature_2m\"])\n",
    "    wind_speed = sum(hourly[\"wind_speed_10m\"]) / len(hourly[\"wind_speed_10m\"])\n",
    "    precipitation = sum(hourly[\"precipitation\"])\n",
    "    return temperature, wind_speed, precipitation"
   ]
  },
  {
   "cell_type": "code",
   "execution_count": 4,
   "metadata": {},
   "outputs": [],
   "source": [
    "# Load the CSV file into a DataFrame\n",
    "match_data = pd.read_csv(\"Datasets/season-1314.csv\")\n",
    "\n",
    "# Add new columns for weather data\n",
    "match_data[\"temperature\"] = None\n",
    "match_data[\"wind_speed\"] = None\n",
    "match_data[\"precipitation\"] = None"
   ]
  },
  {
   "cell_type": "code",
   "execution_count": null,
   "metadata": {},
   "outputs": [],
   "source": [
    "# Loop through each row in the DataFrame\n",
    "# for index, row in match_data.iterrows():\n",
    "#     home_team = row[\"HomeTeam\"]\n",
    "#     match_date = row[\"Date\"]  # Date in dd-mm-yy format\n",
    "#     latitude = team_coordinates[home_team][\"latitude\"]\n",
    "#     longitude = team_coordinates[home_team][\"longitude\"]\n",
    "\n",
    "#     # Parse the date into YYYY-MM-DD format\n",
    "#     formatted_date = parse_date(match_date)\n",
    "\n",
    "#     # Fetch weather data\n",
    "#     weather_data = fetch_weather_data(latitude, longitude, formatted_date)\n",
    "#     if weather_data:\n",
    "#         temperature, wind_speed, precipitation = extract_weather_metrics(weather_data)\n",
    "#         # Update the DataFrame with weather data\n",
    "#         match_data.at[index, \"temperature\"] = temperature\n",
    "#         match_data.at[index, \"wind_speed\"] = wind_speed\n",
    "#         match_data.at[index, \"precipitation\"] = precipitation\n",
    "\n",
    "# # Save the updated DataFrame to a new CSV file\n",
    "# match_data.to_csv(\"season-1314_with_weather.csv\", index=False)"
   ]
  },
  {
   "cell_type": "code",
   "execution_count": null,
   "metadata": {},
   "outputs": [],
   "source": [
    "# Display the first few rows of the updated DataFrame\n",
    "# print(match_data.head())"
   ]
  },
  {
   "cell_type": "code",
   "execution_count": 5,
   "metadata": {},
   "outputs": [
    {
     "name": "stdout",
     "output_type": "stream",
     "text": [
      "Processing first 5 rows for testing...\n",
      "\n",
      "Results for the first 5 rows:\n",
      "       Date               HomeTeam  AwayTeam  FTHG  FTAG FTR  HTHG  HTAG HTR   \n",
      "0  09/08/13            Montpellier  Paris SG     1     1   D     1     0   H  \\\n",
      "1  10/08/13               Bordeaux    Monaco     0     2   A     0     0   D   \n",
      "2  10/08/13  Evian Thonon Gaillard   Sochaux     1     1   D     1     0   H   \n",
      "3  10/08/13                  Lille   Lorient     1     0   H     1     0   H   \n",
      "4  10/08/13                   Lyon      Nice     4     0   H     1     0   H   \n",
      "\n",
      "   Referee  ...  AF  HC  AC  HY  AY  HR  AR  temperature  wind_speed   \n",
      "0      NaN  ...  18   1   8   2   2   1   0    22.995833   28.020833  \\\n",
      "1      NaN  ...  11   3   7   1   0   0   0        20.55      6.4375   \n",
      "2      NaN  ...  18   5   5   1   2   0   0    18.820833    8.229167   \n",
      "3      NaN  ...  18   4   3   1   1   0   1       17.225    9.391667   \n",
      "4      NaN  ...   9   2   5   1   0   0   0      20.6125   13.066667   \n",
      "\n",
      "   precipitation  \n",
      "0            0.0  \n",
      "1            0.0  \n",
      "2            0.0  \n",
      "3            0.0  \n",
      "4            0.0  \n",
      "\n",
      "[5 rows x 25 columns]\n"
     ]
    }
   ],
   "source": [
    "print(\"Processing first 5 rows for testing...\")\n",
    "for index, row in match_data.head(5).iterrows():\n",
    "    home_team = row[\"HomeTeam\"]\n",
    "    match_date = row[\"Date\"]  # Date in dd-mm-yy format\n",
    "    latitude = team_coordinates[home_team][\"latitude\"]\n",
    "    longitude = team_coordinates[home_team][\"longitude\"]\n",
    "\n",
    "    # Parse the date into YYYY-MM-DD format\n",
    "    formatted_date = parse_date(match_date)\n",
    "\n",
    "    # Fetch weather data\n",
    "    weather_data = fetch_weather_data(latitude, longitude, formatted_date)\n",
    "    if weather_data:\n",
    "        temperature, wind_speed, precipitation = extract_weather_metrics(weather_data)\n",
    "        # Update the DataFrame with weather data\n",
    "        match_data.at[index, \"temperature\"] = temperature\n",
    "        match_data.at[index, \"wind_speed\"] = wind_speed\n",
    "        match_data.at[index, \"precipitation\"] = precipitation\n",
    "\n",
    "# Display the first few rows of the updated DataFrame\n",
    "print(\"\\nResults for the first 5 rows:\")\n",
    "print(match_data.head())\n",
    "match_data.to_csv(\"season-1314_with_weather.csv\", index=False)"
   ]
  }
 ],
 "metadata": {
  "kernelspec": {
   "display_name": "Python 3",
   "language": "python",
   "name": "python3"
  },
  "language_info": {
   "codemirror_mode": {
    "name": "ipython",
    "version": 3
   },
   "file_extension": ".py",
   "mimetype": "text/x-python",
   "name": "python",
   "nbconvert_exporter": "python",
   "pygments_lexer": "ipython3",
   "version": "3.10.5"
  }
 },
 "nbformat": 4,
 "nbformat_minor": 2
}
